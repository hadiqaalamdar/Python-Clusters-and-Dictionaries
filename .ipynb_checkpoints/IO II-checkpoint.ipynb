{
 "cells": [
  {
   "cell_type": "markdown",
   "metadata": {},
   "source": [
    "##### 30 Oct 2019"
   ]
  },
  {
   "cell_type": "markdown",
   "metadata": {},
   "source": [
    "# I/O II:  Parsing Files"
   ]
  },
  {
   "cell_type": "markdown",
   "metadata": {},
   "source": [
    "#### Reading:  _PCfB_ Ch 10 "
   ]
  },
  {
   "cell_type": "markdown",
   "metadata": {},
   "source": [
    "#### Today's Topics: "
   ]
  },
  {
   "cell_type": "markdown",
   "metadata": {},
   "source": [
    "* context manager (`with` statement)\n",
    "* parsers\n",
    "* FASTA files\n",
    "* ad hoc parsing\n",
    "\n",
    "Note: the techniques described in the last section (\"ad hoc parsing\") will be used on one of the problems in Project 5."
   ]
  },
  {
   "cell_type": "markdown",
   "metadata": {},
   "source": [
    "## Idiom for Working with Files: &nbsp; Use `with` "
   ]
  },
  {
   "cell_type": "markdown",
   "metadata": {},
   "source": [
    "Python has a statement named `with` that is useful for working with files\n",
    "\n",
    "It automatically opens and closes files for us\n",
    "\n",
    "Replace\n",
    "```\n",
    "f = open(\"filename\")\n",
    "# code that uses f\n",
    "close(f)\n",
    "```\n",
    "by\n",
    "```\n",
    "with open(\"filename\") as f:\n",
    "   # code that uses f\n",
    "```"
   ]
  },
  {
   "cell_type": "markdown",
   "metadata": {},
   "source": [
    "#### Example "
   ]
  },
  {
   "cell_type": "markdown",
   "metadata": {},
   "source": [
    "Print and count the lines in a file:"
   ]
  },
  {
   "cell_type": "code",
   "execution_count": null,
   "metadata": {},
   "outputs": [],
   "source": [
    "linenum = 0\n",
    "\n",
    "with open('quote.txt') as f:\n",
    "    for line in f: \n",
    "        linenum += 1\n",
    "        print('line {:d}:  {}'.format(linenum, line.rstrip()))\n",
    "        \n",
    "print('found', linenum, 'lines')"
   ]
  },
  {
   "cell_type": "markdown",
   "metadata": {},
   "source": [
    "#### Terminology "
   ]
  },
  {
   "cell_type": "markdown",
   "metadata": {},
   "source": [
    "The `with` statement is a \"context manager\"\n",
    "* the body of the statement defines a context in which the variable (`f` in this case) refers to a file\n",
    "* when we're done with the context Python cleans up everything and discards the context\n",
    "\n",
    "(There are other types of contexts in Python but we won't use them in this course)"
   ]
  },
  {
   "cell_type": "markdown",
   "metadata": {},
   "source": [
    "## Parsers"
   ]
  },
  {
   "cell_type": "markdown",
   "metadata": {},
   "source": [
    "The word \"parse\" comes from linguistics\n",
    "\n",
    "![ascii](http://pages.uoregon.edu/conery/Bi410/parse.png)"
   ]
  },
  {
   "cell_type": "markdown",
   "metadata": {},
   "source": [
    "In computing a **parser** is a function that analyzes the structure of a piece of text\n",
    "* computer scientists originally applied the term to programming languages:  a compiler parses a program to make sure it is syntactically correct\n",
    "* now used in data science to refer to any function that processes input data"
   ]
  },
  {
   "cell_type": "markdown",
   "metadata": {},
   "source": [
    "### Examples "
   ]
  },
  {
   "cell_type": "markdown",
   "metadata": {},
   "source": [
    "Suppose we want to get a list of payees (people or businesses we wrote checks to) from the file named `checking.csv`\n",
    "* remove duplicates, _i.e._ we want each payee to appear once\n",
    "* print the list in alphabetical order"
   ]
  },
  {
   "cell_type": "markdown",
   "metadata": {},
   "source": [
    "As a reminder this is what the file looks like:\n",
    "\n",
    "```\n",
    "$ cat checking_account.csv\n",
    "\n",
    "12/02/2018,REGISTER GUARD,11.96\n",
    "12/03/2018,APL* ITUNES.COM/BILL,0.99\n",
    "12/04/2018,CHEVRON 0204468,35.52\n",
    "12/08/2018,MARKET OF CHOICE #9,11.21\n",
    "12/09/2018,FOOD FOR LANE COUNTY,5.00\n",
    "12/14/2018,CHEVRON 0204468,16.25\n",
    "12/21/2018,MARKET OF CHOICE #9,38.76\n",
    "12/28/2018,MARKET OF CHOICE #9,18.78\n",
    "12/31/2018,KING ESTATE WINERY,44.40\n",
    "```"
   ]
  },
  {
   "cell_type": "markdown",
   "metadata": {},
   "source": [
    "#### Plan "
   ]
  },
  {
   "cell_type": "markdown",
   "metadata": {},
   "source": [
    "* initialize an output list\n",
    "* read each line in the file\n",
    "* parse each line (break it into separate fields)\n",
    "* if the payee (first field) is not in the output list append it\n",
    "* sort and return the list"
   ]
  },
  {
   "cell_type": "markdown",
   "metadata": {},
   "source": [
    "#### Sandbox "
   ]
  },
  {
   "cell_type": "markdown",
   "metadata": {},
   "source": [
    "Make a string using one of the lines, play around with `strip` and `split` to make sure we know how to use them"
   ]
  },
  {
   "cell_type": "code",
   "execution_count": null,
   "metadata": {},
   "outputs": [],
   "source": [
    "s = open('checking_account.csv').readline()   # get the first line in the data file"
   ]
  },
  {
   "cell_type": "code",
   "execution_count": null,
   "metadata": {},
   "outputs": [],
   "source": [
    "s"
   ]
  },
  {
   "cell_type": "code",
   "execution_count": null,
   "metadata": {},
   "outputs": [],
   "source": [
    "s.strip()"
   ]
  },
  {
   "cell_type": "markdown",
   "metadata": {},
   "source": [
    "In a previous project we saw it's possible to combine calls to `strip` and `split` into a single expression:"
   ]
  },
  {
   "cell_type": "code",
   "execution_count": null,
   "metadata": {},
   "outputs": [],
   "source": [
    "s.strip().split(',')"
   ]
  },
  {
   "cell_type": "markdown",
   "metadata": {},
   "source": [
    "Also recall we can use \"tuple assignment\" to save the pieces of the line\n",
    "* the list created by split should always have 3 items\n",
    "* put three var names on the left side"
   ]
  },
  {
   "cell_type": "code",
   "execution_count": null,
   "metadata": {},
   "outputs": [],
   "source": [
    "s = '1/1/1970,Pies R Us,3.14'"
   ]
  },
  {
   "cell_type": "code",
   "execution_count": null,
   "metadata": {},
   "outputs": [],
   "source": [
    "a, b, c = s.strip().split(',')\n",
    "print(\"payee:\", b)"
   ]
  },
  {
   "cell_type": "markdown",
   "metadata": {},
   "source": [
    "#### Code "
   ]
  },
  {
   "cell_type": "code",
   "execution_count": null,
   "metadata": {},
   "outputs": [],
   "source": [
    "def payee_list(fn):\n",
    "    res = []\n",
    "    with open(fn) as f:\n",
    "        for line in f:\n",
    "            date, payee, amount = line.strip().split(',')\n",
    "            if payee not in res:\n",
    "                res.append(payee.title())\n",
    "    return sorted(res)"
   ]
  },
  {
   "cell_type": "code",
   "execution_count": null,
   "metadata": {},
   "outputs": [],
   "source": [
    "payee_list('checking_account.csv')"
   ]
  },
  {
   "cell_type": "markdown",
   "metadata": {},
   "source": [
    "### Example: Find Protein Patterns "
   ]
  },
  {
   "cell_type": "markdown",
   "metadata": {},
   "source": [
    "This function will return the deflines of sequences that contain a specified pattern\n",
    "* first argument: a string (\"motif\") to look for\n",
    "* second argument: the name of the file to search"
   ]
  },
  {
   "cell_type": "markdown",
   "metadata": {},
   "source": [
    "#### Aside: FASTA Files "
   ]
  },
  {
   "cell_type": "markdown",
   "metadata": {},
   "source": [
    "The file format for this project is known as FASTA (pronounced \"fast-uh\" or \"fast-ay\")\n",
    "* sequence descriptions are lines that begin with a greater-than symbol\n",
    "  * description lines are called \"deflines\"\n",
    "* sequence data is on lines in between deflines"
   ]
  },
  {
   "cell_type": "markdown",
   "metadata": {},
   "source": [
    "For this project we can assume all sequences are on a single line\n",
    "* i.e. the file consists of alternating deflines and sequence lines"
   ]
  },
  {
   "cell_type": "markdown",
   "metadata": {},
   "source": [
    "The file is named `hemoglobin.fasta` (find it in the `data` folder in the Docker container or download it from the server)."
   ]
  },
  {
   "cell_type": "code",
   "execution_count": null,
   "metadata": {},
   "outputs": [],
   "source": [
    "! head -4 hemoglobin.fasta"
   ]
  },
  {
   "cell_type": "markdown",
   "metadata": {},
   "source": [
    "#### Method "
   ]
  },
  {
   "cell_type": "markdown",
   "metadata": {},
   "source": [
    "* create an empty list to hold the results\n",
    "* iterate over the lines in the file\n",
    "* if a line starts with `'>'` ignore it\n",
    "* if the motif occurs in the sequence append the defline to the result"
   ]
  },
  {
   "cell_type": "markdown",
   "metadata": {},
   "source": [
    "#### Code "
   ]
  },
  {
   "cell_type": "markdown",
   "metadata": {},
   "source": [
    "This example introduces a new statement:  `continue`\n",
    "* used only inside loops\n",
    "* it means \"skip the rest of the statements in the body of the loop and go back to the loop header\""
   ]
  },
  {
   "cell_type": "code",
   "execution_count": null,
   "metadata": {},
   "outputs": [],
   "source": [
    "def find_pattern(motif, fn):\n",
    "    lst = []\n",
    "    with open(fn) as f:\n",
    "        for line in f:\n",
    "            if line.startswith('>'):\n",
    "                continue\n",
    "            if motif in line:\n",
    "                lst.append(line.strip())\n",
    "    return lst"
   ]
  },
  {
   "cell_type": "code",
   "execution_count": null,
   "metadata": {
    "scrolled": true
   },
   "outputs": [],
   "source": [
    "find_pattern('SKYR', 'hemoglobin.fasta')"
   ]
  },
  {
   "cell_type": "code",
   "execution_count": null,
   "metadata": {
    "scrolled": true
   },
   "outputs": [],
   "source": [
    "find_pattern('MVL', 'hemoglobin.fasta')"
   ]
  },
  {
   "cell_type": "markdown",
   "metadata": {},
   "source": [
    "## Bioinformatics Libraries "
   ]
  },
  {
   "cell_type": "markdown",
   "metadata": {},
   "source": [
    "If you plan on working with sequence files you should invest some time learning to use special purpose libraries\n",
    "* BioPython\n",
    "* SciKit-Bio\n",
    "\n",
    "These libraries define new data types to represent sequences and take care of all the work of reading data from files\n",
    "\n",
    "Example:\n",
    "```\n",
    "from FASTA import *\n",
    "\n",
    "for seq in FASTAReader(fn):\n",
    "    if name in seq.defline():\n",
    "        gc_content(seq.sequence())\n",
    "```"
   ]
  },
  {
   "cell_type": "markdown",
   "metadata": {},
   "source": [
    "## Ad Hoc Parsers "
   ]
  },
  {
   "cell_type": "markdown",
   "metadata": {},
   "source": [
    "Previous examples have been based on widely-used file formats\n",
    "* CSV (and TSV) records\n",
    "* FASTA for sequence files (both DNA and amino acid)"
   ]
  },
  {
   "cell_type": "markdown",
   "metadata": {},
   "source": [
    "Often we need to write a special-purpose parser for our own unique requirements"
   ]
  },
  {
   "cell_type": "markdown",
   "metadata": {},
   "source": [
    "### Example: Extract Sequence IDs from FASTA "
   ]
  },
  {
   "cell_type": "markdown",
   "metadata": {},
   "source": [
    "Suppose we want to make a list of sequence identifiers that appear on deflines in a FASTA file\n",
    "* we're looking for substrings that start `NP_` \n",
    "* the ID includes one or more digits after the underscore\n",
    "\n",
    "To get an idea of what we're looking for, this shell command prints all the lines in the file that contain the string `\"NP_\"`\n",
    "<pre>\n",
    "$ grep NP_ hemoglobin.fasta\n",
    "\n",
    ">gi|4504347|ref|NP_000549.1| hemoglobin subunit alpha [Homo sapiens]\n",
    ">gi|47271417|ref|NP_571332.2| hemoglobin subunit alpha [Danio rerio]\n",
    ">gi|145301578|ref|NP_032244.2| hemoglobin subunit alpha [Mus musculus]\n",
    ">gi|52138655|ref|NP_001004376.1| hemoglobin subunit alpha-A [Gallus gallus]\n",
    "</pre>"
   ]
  },
  {
   "cell_type": "markdown",
   "metadata": {},
   "source": [
    "#### Method"
   ]
  },
  {
   "cell_type": "markdown",
   "metadata": {},
   "source": [
    "Note the defline is a series of fields separated by vertical bars.  One way to approach this problem is to use `split` to separate the defline into smaller pieces\n",
    "* first `split` using a vertical bar\n",
    "* the sequence ID is in the 4th part\n",
    "* use split again to separate the ID field into parts before and after the period"
   ]
  },
  {
   "cell_type": "markdown",
   "metadata": {},
   "source": [
    "#### Sandbox "
   ]
  },
  {
   "cell_type": "markdown",
   "metadata": {},
   "source": [
    "Let's read the first line of the data file (which we know is a defline) and use it in some experiments with `split`"
   ]
  },
  {
   "cell_type": "code",
   "execution_count": null,
   "metadata": {},
   "outputs": [],
   "source": [
    "s = open('hemoglobin.fasta').readline()"
   ]
  },
  {
   "cell_type": "code",
   "execution_count": null,
   "metadata": {},
   "outputs": [],
   "source": [
    "s.split('|')"
   ]
  },
  {
   "cell_type": "code",
   "execution_count": null,
   "metadata": {},
   "outputs": [],
   "source": [
    "s.split('|')[3]"
   ]
  },
  {
   "cell_type": "code",
   "execution_count": null,
   "metadata": {},
   "outputs": [],
   "source": [
    "idpart = s.split('|')[3]"
   ]
  },
  {
   "cell_type": "code",
   "execution_count": null,
   "metadata": {},
   "outputs": [],
   "source": [
    "idpart.split('.')"
   ]
  },
  {
   "cell_type": "code",
   "execution_count": null,
   "metadata": {},
   "outputs": [],
   "source": [
    "idpart.split('.')[0]"
   ]
  },
  {
   "cell_type": "markdown",
   "metadata": {},
   "source": [
    "#### Code"
   ]
  },
  {
   "cell_type": "code",
   "execution_count": null,
   "metadata": {},
   "outputs": [],
   "source": [
    "def parse_seq_ids(fn):\n",
    "    res = []\n",
    "    with open(fn) as f:\n",
    "        for line in f:\n",
    "            if line.startswith('>'):\n",
    "                idpart = line.split('|')[3]\n",
    "                res.append(idpart.split('.')[0])\n",
    "    return res"
   ]
  },
  {
   "cell_type": "code",
   "execution_count": null,
   "metadata": {},
   "outputs": [],
   "source": [
    "parse_seq_ids('hemoglobin.fasta')"
   ]
  },
  {
   "cell_type": "code",
   "execution_count": null,
   "metadata": {},
   "outputs": [],
   "source": []
  }
 ],
 "metadata": {
  "kernelspec": {
   "display_name": "Python 3",
   "language": "python",
   "name": "python3"
  },
  "language_info": {
   "codemirror_mode": {
    "name": "ipython",
    "version": 3
   },
   "file_extension": ".py",
   "mimetype": "text/x-python",
   "name": "python",
   "nbconvert_exporter": "python",
   "pygments_lexer": "ipython3",
   "version": "3.7.1"
  },
  "varInspector": {
   "cols": {
    "lenName": 16,
    "lenType": 16,
    "lenVar": 40
   },
   "kernels_config": {
    "python": {
     "delete_cmd_postfix": "",
     "delete_cmd_prefix": "del ",
     "library": "var_list.py",
     "varRefreshCmd": "print(var_dic_list())"
    },
    "r": {
     "delete_cmd_postfix": ") ",
     "delete_cmd_prefix": "rm(",
     "library": "var_list.r",
     "varRefreshCmd": "cat(var_dic_list()) "
    }
   },
   "types_to_exclude": [
    "module",
    "function",
    "builtin_function_or_method",
    "instance",
    "_Feature"
   ],
   "window_display": false
  }
 },
 "nbformat": 4,
 "nbformat_minor": 4
}
