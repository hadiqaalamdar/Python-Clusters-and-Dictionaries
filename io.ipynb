{
 "cells": [
  {
   "cell_type": "markdown",
   "metadata": {},
   "source": [
    "#### Bi 410/510 (Fall 2019)"
   ]
  },
  {
   "cell_type": "markdown",
   "metadata": {},
   "source": [
    "Before you turn this problem in, make sure everything runs as expected. First, **restart the kernel** (in the menubar, select Kernel$\\rightarrow$Restart) and then **run all cells** (in the menubar, select Cell$\\rightarrow$Run All).\n",
    "\n",
    "Make sure you fill in any place that says `YOUR CODE HERE` or \"YOUR ANSWER HERE\", as well as your name and collaborators below:"
   ]
  },
  {
   "cell_type": "markdown",
   "metadata": {},
   "source": [
    "**Group Members**\n",
    "\n",
    "If this is a group submission edit this cell to add the names and e-mail addresses of the othrer people who worked on the project.\n",
    "* name (xxx@uoregon.edu)\n",
    "* name (xxx@uoregon.edu)\n",
    "* name (xxx@uoregon.edu)"
   ]
  },
  {
   "cell_type": "code",
   "execution_count": null,
   "metadata": {},
   "outputs": [],
   "source": []
  },
  {
   "cell_type": "markdown",
   "metadata": {},
   "source": [
    "# <span style=\"color:seagreen;\">Project 5: &nbsp; I/O and Dictionaries</span>"
   ]
  },
  {
   "cell_type": "markdown",
   "metadata": {},
   "source": [
    "###  <span style=\"color:seagreen\">Instructions</span>"
   ]
  },
  {
   "cell_type": "markdown",
   "metadata": {},
   "source": [
    "In previous projects we wrote the `def` statements of functions for you, which meant the code cells you need to fill in looked something like this:\n",
    "```\n",
    "def foo():\n",
    "    pass\n",
    "```\n",
    "\n",
    "Starting with this project there will be cells where you have to write the `def` statement yourself.  The code cell will simply have the word `pass`.  Delete that line and replace it with the complete definition of your function."
   ]
  },
  {
   "cell_type": "markdown",
   "metadata": {},
   "source": [
    "###  <span style=\"color:seagreen\">Data Files</span>"
   ]
  },
  {
   "cell_type": "markdown",
   "metadata": {},
   "source": [
    "To complete this project you will need to download two files from the Bi410 server.\n",
    "The easiest way to download the files is to start a Docker shell, `cd` to the directory where you saved this notebook, and use the `download` shortcut:\n",
    "```\n",
    "$ download clusters.txt\n",
    "$ download example_dictionaries.py\n",
    "```\n",
    "\n",
    "This project uses two definitions from `example_dictionaries.py`, one called `gc` (\"genetic code\") and one called `mol_wt` (\"molecular weight\")\n",
    "* because `example_dictionaries.py` is in the same directory as this notebook you can use an `import` statement to load a dictionary into this notebook\n",
    "* we've provided code cells with `import` statements\n",
    "\n",
    "**NOTE:** if the two files are not saved in the same directory as this notebook you will get an error message when you try to import a dictionary or open the data file."
   ]
  },
  {
   "cell_type": "markdown",
   "metadata": {},
   "source": [
    "###  <span style=\"color:seagreen\">Exercise 5.1: Clusters</span> "
   ]
  },
  {
   "cell_type": "markdown",
   "metadata": {},
   "source": [
    "The file named `clusters.txt` is a TSV (tab separated values) file produced by a program that analyzes DNA sequences and organizes them into clusters of similar sequences. The relevant information for this project is in the first two columns of each line:\n",
    "* Column 1 has a sequence ID, which is a long string that starts with a series of numbers and ends with ’size=’ (you’ll use the size in the next project, but ignore it for now).\n",
    "* Column 2 has a string, either ’otu’ or ’match’.\n",
    "\n",
    "Implement a function named `cluster_ids` that reads a cluster description file and returns a list of the sequence ID fields for every OTU, _i.e._ for every record that has `otu` in the second column. \n",
    "\n",
    "This is what the first two lines should look like for this data set:\n",
    "```\n",
    ">>> cluster_ids('clusters.txt')\n",
    "['715:51:674:768;id=2007;size=36',\n",
    " '810:412:436:962;id=119;size=14',\n",
    " ...\n",
    "]\n",
    "```\n",
    "\n",
    "**Hint:** Since the fields on each line are separated by tabs, you can use something like this to split a line into a list of fields:\n",
    "```\n",
    "   line.split('\\t')\n",
    "```"
   ]
  },
  {
   "cell_type": "code",
   "execution_count": 1,
   "metadata": {
    "deletable": false,
    "nbgrader": {
     "cell_type": "code",
     "checksum": "33831885e3ceeb92ec87549477a35acd",
     "grade": true,
     "grade_id": "cluster_ids",
     "locked": false,
     "points": 8,
     "schema_version": 3,
     "solution": true
    }
   },
   "outputs": [],
   "source": [
    "def cluster_ids(fn):\n",
    "    # YOUR CODE HERE\n",
    "    ids = [ ]\n",
    "    with open(fn) as f:\n",
    "        for line in f:\n",
    "            col1=line.split('\\t')[0]\n",
    "            col2=line.split('\\t')[1]\n",
    "            if(col2==\"otu\"):\n",
    "                ids.append(col1)\n",
    "        return ids"
   ]
  },
  {
   "cell_type": "code",
   "execution_count": 2,
   "metadata": {},
   "outputs": [
    {
     "data": {
      "text/plain": [
       "['715:51:674:768;id=2007;size=36',\n",
       " '810:412:436:962;id=119;size=14',\n",
       " '259:174:253:24;id=2281;size=11',\n",
       " '3080:32:2633:30;id=1940;size=10',\n",
       " '1616:325:49:202;id=295;size=5',\n",
       " '93:74:93:30;id=2400;size=5',\n",
       " '4227:1088:2615:232;id=2137;size=4']"
      ]
     },
     "execution_count": 2,
     "metadata": {},
     "output_type": "execute_result"
    }
   ],
   "source": [
    "cluster_ids('clusters.txt')"
   ]
  },
  {
   "cell_type": "markdown",
   "metadata": {},
   "source": [
    "##### Tests "
   ]
  },
  {
   "cell_type": "markdown",
   "metadata": {},
   "source": [
    "Use this code cell to test your function as you work on it:"
   ]
  },
  {
   "cell_type": "code",
   "execution_count": 3,
   "metadata": {},
   "outputs": [
    {
     "data": {
      "text/plain": [
       "7"
      ]
     },
     "execution_count": 3,
     "metadata": {},
     "output_type": "execute_result"
    }
   ],
   "source": [
    "len(cluster_ids('clusters.txt'))"
   ]
  },
  {
   "cell_type": "markdown",
   "metadata": {},
   "source": [
    "We'll use this code cell to verify the code works:"
   ]
  },
  {
   "cell_type": "code",
   "execution_count": 4,
   "metadata": {
    "deletable": false,
    "editable": false,
    "nbgrader": {
     "cell_type": "code",
     "checksum": "c46c8492c98202713069d987a3c9a7fe",
     "grade": true,
     "grade_id": "cluster_test",
     "locked": true,
     "points": 5,
     "schema_version": 3,
     "solution": false
    }
   },
   "outputs": [],
   "source": [
    "assert len(cluster_ids('clusters.txt')) == 7"
   ]
  },
  {
   "cell_type": "markdown",
   "metadata": {},
   "source": [
    "###  <span style=\"color:seagreen\">Exercise 5.2: Cluster Statistics</span>"
   ]
  },
  {
   "cell_type": "markdown",
   "metadata": {},
   "source": [
    "Implement a function named `cluster_stats` that will read a cluster description file and print some statistics about cluster sizes.\n",
    "\n",
    "**Hint:** see the lecture notes on \"ad hoc parsing\" (in `IO II.ipynb`) for examples of code that extracts small substrings from a longer data line.\n",
    "\n",
    "The program should print the number of clusters, the total number of sequences in all clusters, and the mean cluster size. \n",
    "\n",
    "For example, suppose there are three clusters in a file:\n",
    "```\n",
    "30:321:33:30;id=940;size=10  otu   74.8  * 715:51:74:768;id=20\n",
    "61:325:49:19;id=295;size=7   otu   83.0  * 715:51:74:768;id=20\n",
    "93:074:93:31;id=200;size=5   otu   85.4  * 715:51:74:768;id=20\n",
    "```\n",
    "The number of clusters is simply the number of lines in the file.\n",
    "The number of sequences in a cluster is the number to the right of `size=` in the first field.\n",
    "In this example the sizes are 10, 7, and 5, so the total number of sequences is 22 and the mean cluster size is 22 / 3 = 7.33.\n",
    "\n",
    "The test file named `clusters.txt` has 11 clusters, with a total of 99 sequences in all clusters, so this is what you should see when you process that file with your function:\n",
    "```\n",
    ">>> cluster_stats('clusters.txt')\n",
    "(11, 99, 9.0)\n",
    "```"
   ]
  },
  {
   "cell_type": "code",
   "execution_count": 5,
   "metadata": {
    "deletable": false,
    "nbgrader": {
     "cell_type": "code",
     "checksum": "e4190490d2fdbc87b298897012fe29d8",
     "grade": true,
     "grade_id": "cluster_stats",
     "locked": false,
     "points": 8,
     "schema_version": 3,
     "solution": true
    }
   },
   "outputs": [],
   "source": [
    "def cluster_stats(fn):\n",
    "    clusters=0\n",
    "    totalNumOfSeq=0\n",
    "    with open(fn) as f:\n",
    "        for line in f:\n",
    "            clusters+=1\n",
    "            col1=line.split('\\t')[0]\n",
    "            sizeequals=col1.split(';')[2]\n",
    "            size=sizeequals.split('=')[1]\n",
    "            totalNumOfSeq+=int(size)\n",
    "    mean=totalNumOfSeq/clusters\n",
    "    return(clusters, totalNumOfSeq, mean)"
   ]
  },
  {
   "cell_type": "markdown",
   "metadata": {},
   "source": [
    "##### Tests "
   ]
  },
  {
   "cell_type": "markdown",
   "metadata": {},
   "source": [
    "Use this code cell to test your code."
   ]
  },
  {
   "cell_type": "code",
   "execution_count": 6,
   "metadata": {},
   "outputs": [
    {
     "data": {
      "text/plain": [
       "(11, 99, 9.0)"
      ]
     },
     "execution_count": 6,
     "metadata": {},
     "output_type": "execute_result"
    }
   ],
   "source": [
    "cluster_stats('clusters.txt')"
   ]
  },
  {
   "cell_type": "markdown",
   "metadata": {},
   "source": [
    "We'll use this cell to test your function:"
   ]
  },
  {
   "cell_type": "code",
   "execution_count": 7,
   "metadata": {
    "deletable": false,
    "editable": false,
    "nbgrader": {
     "cell_type": "code",
     "checksum": "bbc3f4b99d8d242fbef50b98481ddaaf",
     "grade": true,
     "grade_id": "cell-3ee2ed0de51de853",
     "locked": true,
     "points": 5,
     "schema_version": 3,
     "solution": false,
     "task": false
    }
   },
   "outputs": [],
   "source": [
    "assert cluster_stats('clusters.txt') == (11, 99, 9.0)"
   ]
  },
  {
   "cell_type": "markdown",
   "metadata": {},
   "source": [
    "###  <span style=\"color:seagreen\">Exercise 5.3: Translate</span>"
   ]
  },
  {
   "cell_type": "markdown",
   "metadata": {},
   "source": [
    "Define a function named `translate` that will translate a DNA sequence into an amino acid sequence.\n",
    "\n",
    "For the previous project you wrote a program that iterated over a DNA string and printed each codon. In this project you want to look up each codon in the dictionary named `gc` to find the corresponding amino acid letter and then append that letter to your output string.\n",
    "\n",
    "Here is an example with a valid input string, where all letters are in the “DNA alphabet” and the length of the input is a multiple of 3:\n",
    "```\n",
    ">>> translate('GATTACATG')\n",
    "DYM\n",
    "```\n",
    "\n",
    "If one of the codons has a letter other than `A`, `C`, `G`, or `T` the codon will not be in the dictionary.  In that case add a question mark to the output string.\n",
    "The same is true if the length of the input is not a multiple of 3 -- there will be a partial codon left over, and you should add a question mark.  The result of this call has question marks for both cases:\n",
    "```\n",
    ">>> translate('GATXAAATGA')\n",
    "D?M?\n",
    "```"
   ]
  },
  {
   "cell_type": "code",
   "execution_count": 15,
   "metadata": {
    "deletable": false,
    "nbgrader": {
     "cell_type": "code",
     "checksum": "c689289708ba913ab58a3198b3e5f423",
     "grade": true,
     "grade_id": "translate",
     "locked": false,
     "points": 7,
     "schema_version": 3,
     "solution": true
    }
   },
   "outputs": [
    {
     "data": {
      "text/plain": [
       "'?YM'"
      ]
     },
     "execution_count": 15,
     "metadata": {},
     "output_type": "execute_result"
    }
   ],
   "source": [
    "from example_dictionaries import gc\n",
    "def translate(dna):\n",
    "    length=len(dna)\n",
    "    extra=length%3\n",
    "    if(extra>0):\n",
    "        for i in range(3-extra):\n",
    "            dna+=\"?\"\n",
    "    codons=[dna[i:i+3] for i in range(0, len(dna), 3)]\n",
    "    output=\"\"\n",
    "    for codon in codons:\n",
    "        if(codon in gc):\n",
    "            output+=gc[codon]\n",
    "        else:\n",
    "            output+=\"?\"\n",
    "    return output"
   ]
  },
  {
   "cell_type": "markdown",
   "metadata": {},
   "source": [
    "##### Tests "
   ]
  },
  {
   "cell_type": "markdown",
   "metadata": {},
   "source": [
    "Use this code cell to test your function as you work on it."
   ]
  },
  {
   "cell_type": "code",
   "execution_count": 17,
   "metadata": {},
   "outputs": [
    {
     "data": {
      "text/plain": [
       "'D?M?'"
      ]
     },
     "execution_count": 17,
     "metadata": {},
     "output_type": "execute_result"
    }
   ],
   "source": [
    "translate('GATXAAATGA')"
   ]
  },
  {
   "cell_type": "markdown",
   "metadata": {},
   "source": [
    "We'll use these code cells to test your function:"
   ]
  },
  {
   "cell_type": "code",
   "execution_count": 18,
   "metadata": {
    "deletable": false,
    "editable": false,
    "nbgrader": {
     "cell_type": "code",
     "checksum": "4f7dca8536cf3497b621756b4a50e701",
     "grade": true,
     "grade_id": "cell-ebd2f8e75b619baf",
     "locked": true,
     "points": 3,
     "schema_version": 3,
     "solution": false,
     "task": false
    }
   },
   "outputs": [],
   "source": [
    "assert translate('GATTACATG') == 'DYM'"
   ]
  },
  {
   "cell_type": "code",
   "execution_count": 19,
   "metadata": {
    "deletable": false,
    "editable": false,
    "nbgrader": {
     "cell_type": "code",
     "checksum": "133b9c83567e5411c8d8f73bccb6e549",
     "grade": true,
     "grade_id": "cell-7901ad92de5bcfc4",
     "locked": true,
     "points": 2,
     "schema_version": 3,
     "solution": false,
     "task": false
    }
   },
   "outputs": [],
   "source": [
    "assert translate('GATXAAATGA') == 'D?M?'"
   ]
  },
  {
   "cell_type": "markdown",
   "metadata": {},
   "source": [
    "###  <span style=\"color:seagreen\">Exercise 5.4: Molecular Weight</span>"
   ]
  },
  {
   "cell_type": "markdown",
   "metadata": {},
   "source": [
    "Define a function named `weight` that will compute the molecular weight of a protein.  The molecular weight of a protein is the sum of the weights of each amino acid. \n",
    "* the molecular weights of amino acids are in a dictionary named `mol_wt` (one of the dictionaries in `example_dictionaries.py`)\n",
    "\n",
    "If a character in the input sequence is not an amino acid letter return `None`.\n",
    "\n",
    "Example:  the molecular weight of `MVL` should be 149.21 + 117.15 + 131.17 = 397.53\n",
    "```\n",
    ">>> weight('MVL')\n",
    "397.53\n",
    "\n",
    ">>> weight('MXVL')\n",
    "warning: unknown letter: X\n",
    "397.53\n",
    "```\n",
    "\n",
    "**Note:** This project is one of the examples in the textbook.  See if you can solve it by yourself first, but if you get stuck you can look at their code for inspiration."
   ]
  },
  {
   "cell_type": "code",
   "execution_count": 28,
   "metadata": {
    "deletable": false,
    "nbgrader": {
     "cell_type": "code",
     "checksum": "afac09d684348f27622f0161f93019d6",
     "grade": true,
     "grade_id": "mol_wt",
     "locked": false,
     "points": 7,
     "schema_version": 3,
     "solution": true,
     "task": false
    }
   },
   "outputs": [],
   "source": [
    "from example_dictionaries import mol_wt\n",
    "def weight(protein):\n",
    "    weight=0\n",
    "    for char in protein:\n",
    "        if char in mol_wt:\n",
    "            weight += mol_wt[char]\n",
    "        else:\n",
    "            print(\"warning: unknown letter: \",char)\n",
    "            return None\n",
    "    return (weight)"
   ]
  },
  {
   "cell_type": "markdown",
   "metadata": {},
   "source": [
    "##### Tests "
   ]
  },
  {
   "cell_type": "markdown",
   "metadata": {},
   "source": [
    "Use this code cell to test your function as you work on it."
   ]
  },
  {
   "cell_type": "code",
   "execution_count": null,
   "metadata": {},
   "outputs": [],
   "source": []
  },
  {
   "cell_type": "markdown",
   "metadata": {},
   "source": [
    "We'll use these code cells to test your function."
   ]
  },
  {
   "cell_type": "code",
   "execution_count": 30,
   "metadata": {
    "deletable": false,
    "editable": false,
    "nbgrader": {
     "cell_type": "code",
     "checksum": "763eae76118c9c71d419a6cd7ebb0261",
     "grade": true,
     "grade_id": "cell-20fe1f4a1a7f09f9",
     "locked": true,
     "points": 3,
     "schema_version": 3,
     "solution": false,
     "task": false
    }
   },
   "outputs": [],
   "source": [
    "assert weight('MVL') == 397.53"
   ]
  },
  {
   "cell_type": "code",
   "execution_count": 31,
   "metadata": {
    "deletable": false,
    "editable": false,
    "nbgrader": {
     "cell_type": "code",
     "checksum": "63f5345fa59eab68165ecf85fde37d87",
     "grade": true,
     "grade_id": "cell-0c4eb1ffa60fd3db",
     "locked": true,
     "points": 2,
     "schema_version": 3,
     "solution": false,
     "task": false
    }
   },
   "outputs": [
    {
     "name": "stdout",
     "output_type": "stream",
     "text": [
      "warning: unknown letter:  X\n"
     ]
    }
   ],
   "source": [
    "assert weight('MXVL') is None"
   ]
  },
  {
   "cell_type": "code",
   "execution_count": null,
   "metadata": {},
   "outputs": [],
   "source": []
  }
 ],
 "metadata": {
  "kernel_info": {
   "name": "python3"
  },
  "kernelspec": {
   "display_name": "Python 3",
   "language": "python",
   "name": "python3"
  },
  "language_info": {
   "codemirror_mode": {
    "name": "ipython",
    "version": 3
   },
   "file_extension": ".py",
   "mimetype": "text/x-python",
   "name": "python",
   "nbconvert_exporter": "python",
   "pygments_lexer": "ipython3",
   "version": "3.7.1"
  },
  "nteract": {
   "version": "0.3.4"
  },
  "varInspector": {
   "cols": {
    "lenName": 16,
    "lenType": 16,
    "lenVar": 40
   },
   "kernels_config": {
    "python": {
     "delete_cmd_postfix": "",
     "delete_cmd_prefix": "del ",
     "library": "var_list.py",
     "varRefreshCmd": "print(var_dic_list())"
    },
    "r": {
     "delete_cmd_postfix": ") ",
     "delete_cmd_prefix": "rm(",
     "library": "var_list.r",
     "varRefreshCmd": "cat(var_dic_list()) "
    }
   },
   "types_to_exclude": [
    "module",
    "function",
    "builtin_function_or_method",
    "instance",
    "_Feature"
   ],
   "window_display": false
  }
 },
 "nbformat": 4,
 "nbformat_minor": 4
}
