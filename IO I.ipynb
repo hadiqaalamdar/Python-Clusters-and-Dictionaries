{
 "cells": [
  {
   "cell_type": "markdown",
   "metadata": {},
   "source": [
    "##### 28 Oct 2019"
   ]
  },
  {
   "cell_type": "markdown",
   "metadata": {},
   "source": [
    "# Reading Data from Files"
   ]
  },
  {
   "cell_type": "markdown",
   "metadata": {},
   "source": [
    "#### Reading:  _PCfB_ Ch 10 "
   ]
  },
  {
   "cell_type": "markdown",
   "metadata": {},
   "source": [
    "#### Today's Topics: "
   ]
  },
  {
   "cell_type": "markdown",
   "metadata": {},
   "source": [
    "* recap: text files\n",
    "* File objects\n",
    "* File methods\n",
    "  * `read`\n",
    "  * `readline`\n",
    "* Useful string methods\n",
    "* CSV files\n",
    "* Type conversion"
   ]
  },
  {
   "cell_type": "markdown",
   "metadata": {},
   "source": [
    "#### Data Files"
   ]
  },
  {
   "cell_type": "markdown",
   "metadata": {},
   "source": [
    "If you want to execute the examples in this notebook download these files from the Bi 410 server:\n",
    "```\n",
    "quote.txt\n",
    "species.csv\n",
    "checking_account.csv\n",
    "```"
   ]
  },
  {
   "cell_type": "markdown",
   "metadata": {},
   "source": [
    "## Aside: Shell Window in JupyterLab"
   ]
  },
  {
   "cell_type": "markdown",
   "metadata": {},
   "source": [
    "As we look at how Python interacts with the file system it's helpful to have a terminal session running at the same time\n",
    "\n",
    "One idea is to open a second terminal emulator, `cd` to the same directory as your notebook\n",
    "\n",
    "We can also run shell commands directly from Jupyter"
   ]
  },
  {
   "cell_type": "markdown",
   "metadata": {},
   "source": [
    "### Shell Commands in Jupyter Notebooks "
   ]
  },
  {
   "cell_type": "markdown",
   "metadata": {},
   "source": [
    "If a code cell begins with an exclamation mark Jupyter treats it as a shell command\n",
    "* when the code cell is executed, the contents are sent to the host OS instead of the Python kernel\n",
    "\n",
    "If you are running Jupyter in the Bi 410 Docker container:\n",
    "* the underlying OS is Linux, and the commands that follow the exclamation mark should be `bash` commands\n",
    "* the working directory is the directory where Jupyter found the notebook"
   ]
  },
  {
   "cell_type": "code",
   "execution_count": 1,
   "metadata": {},
   "outputs": [
    {
     "name": "stdout",
     "output_type": "stream",
     "text": [
      "/home/jovyan/Bi410\n"
     ]
    }
   ],
   "source": [
    "! pwd"
   ]
  },
  {
   "cell_type": "code",
   "execution_count": 2,
   "metadata": {},
   "outputs": [
    {
     "name": "stdout",
     "output_type": "stream",
     "text": [
      "amino_acid_table.csv  checking_account.csv  Singh2015.csv\n"
     ]
    }
   ],
   "source": [
    "! ls *.csv"
   ]
  },
  {
   "cell_type": "markdown",
   "metadata": {},
   "source": [
    "### Shell Panel in JupyterLab "
   ]
  },
  {
   "cell_type": "markdown",
   "metadata": {},
   "source": [
    "JupyterLab also lets us run a shell session in your browser\n",
    "* open a new Launcher (click the + button below the main menu)\n",
    "* click on Terminal\n",
    "* click on the original notebook, then drag the terminal tab over the notebook\n",
    "* you can place the terminal anywhere you want (below the notebook, to the right, ...) and resize it after you place it"
   ]
  },
  {
   "cell_type": "markdown",
   "metadata": {},
   "source": [
    "## Review: Text Files "
   ]
  },
  {
   "cell_type": "markdown",
   "metadata": {},
   "source": [
    "Most of the data we work with in Bioinformatics are in **plain text** files (as opposed to **binary** files or structured documents)\n",
    "\n",
    "Some common formats and filename extensions:\n",
    "* unstructured text, e.g. English paragraphs (`.txt`)\n",
    "* HTML documents (`.html`)\n",
    "* Jupyter notebooks (`.ipynb`)\n",
    "* DNA and protein sequences (`.fasta`, `.fa`)\n",
    "* short sequence reads (`.fastq`, `.fq`)\n",
    "* comma-separated values (`.csv`)\n",
    "* tab-separated values (`.tsv`)"
   ]
  },
  {
   "cell_type": "markdown",
   "metadata": {},
   "source": [
    "### What's in a File?"
   ]
  },
  {
   "cell_type": "markdown",
   "metadata": {},
   "source": [
    "There are several shell commands that will tell us what's in a file\n",
    "* `ls -l` (list the files in long form) prints the file size\n",
    "* `wc` (word count) tells us how many lines, words, and characters are in a file\n",
    "* `file` will print a description of the file contents\n",
    "\n",
    "And if the file is short enough, we can just use `cat` to print the entire contents"
   ]
  },
  {
   "cell_type": "markdown",
   "metadata": {},
   "source": [
    "#### Examples"
   ]
  },
  {
   "cell_type": "markdown",
   "metadata": {},
   "source": [
    "```\n",
    "$ file quote.txt\n",
    "quote.txt: ASCII text\n",
    "```"
   ]
  },
  {
   "cell_type": "markdown",
   "metadata": {},
   "source": [
    "```\n",
    "$ wc quote.txt\n",
    "       4      35     188 quote.txt\n",
    "```"
   ]
  },
  {
   "cell_type": "markdown",
   "metadata": {},
   "source": [
    "```\n",
    "$ cat quote.txt\n",
    "If you have no confidence in self,\n",
    "  you are twice defeated in the race of life.\n",
    "With confidence, you have won even before you have started.\n",
    "    -- Marcus Tullius Cicero (106 BC -- 43 BC)\n",
    "```"
   ]
  },
  {
   "cell_type": "markdown",
   "metadata": {},
   "source": [
    "## Working with Files in Python"
   ]
  },
  {
   "cell_type": "markdown",
   "metadata": {},
   "source": [
    "Working with a file in Python is analogous to using a book in real life\n",
    "* call a function to **open** the file\n",
    "* use methods to **read** or **write** data\n",
    "* when we're done we have to **close** the file"
   ]
  },
  {
   "cell_type": "markdown",
   "metadata": {},
   "source": [
    "### Paths "
   ]
  },
  {
   "cell_type": "markdown",
   "metadata": {},
   "source": [
    "Files are identified by a **path**\n",
    "\n",
    "In a Python program, a path is a string\n",
    "* a name by itself refers to a file in the current directory\n",
    "* the string can contain dots and slashes\n",
    "\n",
    "```\n",
    "'quote.txt'\n",
    "'../../2_python/lectures/images/ipython_kernel.jpg'\n",
    "```"
   ]
  },
  {
   "cell_type": "markdown",
   "metadata": {},
   "source": [
    "The paths are relative to where the Python program was first started\n",
    "* when we're working in Jupyter, paths are relative to the directory that contains the notebook"
   ]
  },
  {
   "cell_type": "markdown",
   "metadata": {},
   "source": [
    "## File Objects "
   ]
  },
  {
   "cell_type": "markdown",
   "metadata": {},
   "source": [
    "To open a file call a builtin function named `open`\n",
    "* pass it a string representing the path to the file\n",
    "* get back a **File object**"
   ]
  },
  {
   "cell_type": "markdown",
   "metadata": {},
   "source": [
    "Like other objects in Python (strings, lists, etc), we carry out operations with a file by calling methods"
   ]
  },
  {
   "cell_type": "markdown",
   "metadata": {},
   "source": [
    "### `read` "
   ]
  },
  {
   "cell_type": "markdown",
   "metadata": {},
   "source": [
    "The simplest method is `read`\n",
    "* it returns the entire contents of the file as one long string"
   ]
  },
  {
   "cell_type": "markdown",
   "metadata": {},
   "source": [
    "This snippet shows how to open the file named `quote.txt`, fetch the contents with a call to `read`, and save the result as a string named `q`\n",
    "* if you use `ls -l` or `wc` you'll see this file has 188 characters\n",
    "* we should get them all when we call `read`"
   ]
  },
  {
   "cell_type": "code",
   "execution_count": 5,
   "metadata": {},
   "outputs": [
    {
     "ename": "FileNotFoundError",
     "evalue": "[Errno 2] No such file or directory: 'quote.txt'",
     "output_type": "error",
     "traceback": [
      "\u001b[0;31m---------------------------------------------------------------------------\u001b[0m",
      "\u001b[0;31mFileNotFoundError\u001b[0m                         Traceback (most recent call last)",
      "\u001b[0;32m<ipython-input-5-32e224e56725>\u001b[0m in \u001b[0;36m<module>\u001b[0;34m\u001b[0m\n\u001b[0;32m----> 1\u001b[0;31m \u001b[0mf\u001b[0m \u001b[0;34m=\u001b[0m \u001b[0mopen\u001b[0m\u001b[0;34m(\u001b[0m\u001b[0;34m'quote.txt'\u001b[0m\u001b[0;34m)\u001b[0m\u001b[0;34m\u001b[0m\u001b[0;34m\u001b[0m\u001b[0m\n\u001b[0m\u001b[1;32m      2\u001b[0m \u001b[0mq\u001b[0m \u001b[0;34m=\u001b[0m \u001b[0mf\u001b[0m\u001b[0;34m.\u001b[0m\u001b[0mread\u001b[0m\u001b[0;34m(\u001b[0m\u001b[0;34m)\u001b[0m\u001b[0;34m\u001b[0m\u001b[0;34m\u001b[0m\u001b[0m\n",
      "\u001b[0;31mFileNotFoundError\u001b[0m: [Errno 2] No such file or directory: 'quote.txt'"
     ]
    }
   ],
   "source": [
    "f = open('quote.txt')\n",
    "q = f.read()"
   ]
  },
  {
   "cell_type": "code",
   "execution_count": 4,
   "metadata": {},
   "outputs": [
    {
     "ename": "NameError",
     "evalue": "name 'f' is not defined",
     "output_type": "error",
     "traceback": [
      "\u001b[0;31m---------------------------------------------------------------------------\u001b[0m",
      "\u001b[0;31mNameError\u001b[0m                                 Traceback (most recent call last)",
      "\u001b[0;32m<ipython-input-4-9b1b2ea71b9c>\u001b[0m in \u001b[0;36m<module>\u001b[0;34m\u001b[0m\n\u001b[0;32m----> 1\u001b[0;31m \u001b[0mtype\u001b[0m\u001b[0;34m(\u001b[0m\u001b[0mf\u001b[0m\u001b[0;34m)\u001b[0m\u001b[0;34m\u001b[0m\u001b[0;34m\u001b[0m\u001b[0m\n\u001b[0m",
      "\u001b[0;31mNameError\u001b[0m: name 'f' is not defined"
     ]
    }
   ],
   "source": [
    "type(f)"
   ]
  },
  {
   "cell_type": "markdown",
   "metadata": {},
   "source": [
    "Let's take a look at what's in `q`:"
   ]
  },
  {
   "cell_type": "code",
   "execution_count": null,
   "metadata": {},
   "outputs": [],
   "source": [
    "len(q)"
   ]
  },
  {
   "cell_type": "code",
   "execution_count": null,
   "metadata": {},
   "outputs": [],
   "source": [
    "type(q)"
   ]
  },
  {
   "cell_type": "code",
   "execution_count": null,
   "metadata": {},
   "outputs": [],
   "source": [
    "q[0:20]"
   ]
  },
  {
   "cell_type": "markdown",
   "metadata": {},
   "source": [
    "### Aside: Newline Characters "
   ]
  },
  {
   "cell_type": "markdown",
   "metadata": {},
   "source": [
    "If we print the string `q` we'll see the entire text, and it will look just like it does in a text editor\n",
    "* you can open the file with Notepad++ (Windows) or BBEdit (Mac)\n",
    "* you can also edit it with Jupyter"
   ]
  },
  {
   "cell_type": "code",
   "execution_count": null,
   "metadata": {},
   "outputs": [],
   "source": [
    "print(q)"
   ]
  },
  {
   "cell_type": "markdown",
   "metadata": {},
   "source": [
    "But if we just ask Python to show us the value of `q` we'll see something different:"
   ]
  },
  {
   "cell_type": "code",
   "execution_count": null,
   "metadata": {},
   "outputs": [],
   "source": [
    "q"
   ]
  },
  {
   "cell_type": "markdown",
   "metadata": {},
   "source": [
    "Look carefully at the string `q` and you will see four places where Python printed `\\n`\n",
    "\n",
    "These are **newline** characters\n",
    "* they indicate where lines end\n",
    "* newlines have their own internal code\n",
    "\n",
    "Python prints them with two characters `\\n` because when the language was invented there was no other way to indicate nonprinting characters\n",
    "* there are several other characters like this\n",
    "* tab, return, delete, bell, ..."
   ]
  },
  {
   "cell_type": "code",
   "execution_count": null,
   "metadata": {},
   "outputs": [],
   "source": [
    "s = 'Hello\\nworld'"
   ]
  },
  {
   "cell_type": "code",
   "execution_count": null,
   "metadata": {},
   "outputs": [],
   "source": [
    "s"
   ]
  },
  {
   "cell_type": "code",
   "execution_count": null,
   "metadata": {},
   "outputs": [],
   "source": [
    "print(s)"
   ]
  },
  {
   "cell_type": "markdown",
   "metadata": {},
   "source": [
    "Even though Python prints `\\n` to show where the character is it is still just a single character:"
   ]
  },
  {
   "cell_type": "code",
   "execution_count": null,
   "metadata": {},
   "outputs": [],
   "source": [
    "s"
   ]
  },
  {
   "cell_type": "code",
   "execution_count": null,
   "metadata": {},
   "outputs": [],
   "source": [
    "len(s)"
   ]
  },
  {
   "cell_type": "code",
   "execution_count": null,
   "metadata": {},
   "outputs": [],
   "source": [
    "s[4]"
   ]
  },
  {
   "cell_type": "code",
   "execution_count": null,
   "metadata": {},
   "outputs": [],
   "source": [
    "s[5]"
   ]
  },
  {
   "cell_type": "code",
   "execution_count": null,
   "metadata": {},
   "outputs": [],
   "source": [
    "s[6]"
   ]
  },
  {
   "cell_type": "markdown",
   "metadata": {},
   "source": [
    "### Closing a File "
   ]
  },
  {
   "cell_type": "markdown",
   "metadata": {},
   "source": [
    "Once we're done reading from a file we should close it"
   ]
  },
  {
   "cell_type": "code",
   "execution_count": null,
   "metadata": {},
   "outputs": [],
   "source": [
    "f.close()"
   ]
  },
  {
   "cell_type": "markdown",
   "metadata": {},
   "source": [
    "#### What Happens if We Forget to Close a File? "
   ]
  },
  {
   "cell_type": "markdown",
   "metadata": {},
   "source": [
    "Nothing.  The kernel will automatically close a file when we close the notebook."
   ]
  },
  {
   "cell_type": "markdown",
   "metadata": {},
   "source": [
    "Lots of open files clutter up the kernel, and it's considered \"best practice\" to close files when we're done with them"
   ]
  },
  {
   "cell_type": "markdown",
   "metadata": {},
   "source": [
    "Also, forgetting to close a file we're writing to can be a problem\n",
    "* if the program crashes or we restart the kernel when an output file is still open the data might be lost"
   ]
  },
  {
   "cell_type": "markdown",
   "metadata": {},
   "source": [
    "## Reading One Line at a Time"
   ]
  },
  {
   "cell_type": "markdown",
   "metadata": {},
   "source": [
    "In most applications we don't need the entire contents of a file all at once\n",
    "\n",
    "It's more common to read the file one line at a time\n",
    "\n",
    "With very large data files this can be much more efficient"
   ]
  },
  {
   "cell_type": "markdown",
   "metadata": {},
   "source": [
    "### `readline` "
   ]
  },
  {
   "cell_type": "markdown",
   "metadata": {},
   "source": [
    "To get a single line from a file call a method named `readline`"
   ]
  },
  {
   "cell_type": "code",
   "execution_count": null,
   "metadata": {},
   "outputs": [],
   "source": [
    "f = open('quote.txt')\n",
    "s = f.readline()"
   ]
  },
  {
   "cell_type": "code",
   "execution_count": null,
   "metadata": {},
   "outputs": [],
   "source": [
    "len(s)"
   ]
  },
  {
   "cell_type": "code",
   "execution_count": null,
   "metadata": {},
   "outputs": [],
   "source": [
    "s"
   ]
  },
  {
   "cell_type": "markdown",
   "metadata": {},
   "source": [
    "Note that the newline character is included in the line"
   ]
  },
  {
   "cell_type": "code",
   "execution_count": null,
   "metadata": {},
   "outputs": [],
   "source": [
    "s[-1]"
   ]
  },
  {
   "cell_type": "markdown",
   "metadata": {},
   "source": [
    "### Files Are Read Sequentially"
   ]
  },
  {
   "cell_type": "markdown",
   "metadata": {},
   "source": [
    "Each time we call `readline` we'll get the next line in the file"
   ]
  },
  {
   "cell_type": "code",
   "execution_count": null,
   "metadata": {},
   "outputs": [],
   "source": [
    "f.readline()"
   ]
  },
  {
   "cell_type": "markdown",
   "metadata": {},
   "source": [
    "Execute this code cell several times -- you should see each successive line, and eventually an empty string:"
   ]
  },
  {
   "cell_type": "code",
   "execution_count": null,
   "metadata": {},
   "outputs": [],
   "source": [
    "f.readline()"
   ]
  },
  {
   "cell_type": "markdown",
   "metadata": {},
   "source": [
    "### Empty String "
   ]
  },
  {
   "cell_type": "markdown",
   "metadata": {},
   "source": [
    "When there are no more lines to read the method returns an empty string"
   ]
  },
  {
   "cell_type": "markdown",
   "metadata": {},
   "source": [
    "One way (but not the best way) to read all the lines one at a time:"
   ]
  },
  {
   "cell_type": "code",
   "execution_count": null,
   "metadata": {},
   "outputs": [],
   "source": [
    "f = open('quote.txt')\n",
    "s = f.readline()\n",
    "n = 1\n",
    "while len(s) > 0:\n",
    "    print('[', n, ']: ', s)\n",
    "    s = f.readline()\n",
    "    n += 1\n",
    "f.close()"
   ]
  },
  {
   "cell_type": "markdown",
   "metadata": {},
   "source": [
    "#### Spacing "
   ]
  },
  {
   "cell_type": "markdown",
   "metadata": {},
   "source": [
    "Did you notice how there is extra space between the lines in the output area of the previous code cell?  Can you explain why?  \n",
    "\n",
    "Below we'll see where this space comes from and how to deal with it."
   ]
  },
  {
   "cell_type": "markdown",
   "metadata": {},
   "source": [
    "## Iterating Over a File "
   ]
  },
  {
   "cell_type": "markdown",
   "metadata": {},
   "source": [
    "A _much_ better way to read lines one at a time is with a `for` loop\n",
    "* we prefer `for` loops because they're shorter and less error-prone\n",
    "\n",
    "Python makes it easy for us:\n",
    "```\n",
    "for s in open(fn):\n",
    "   ...\n",
    "```\n",
    "\n",
    "The call to `open` returns a file object, and the `for` loop iterates over the object just like it iterates over a list:\n",
    "* read the first line, save it in `s`\n",
    "* execute the body of the loop\n",
    "* go back to the top of the loop, get the next line\n",
    "* exit the loop when there are no more lines to read"
   ]
  },
  {
   "cell_type": "code",
   "execution_count": null,
   "metadata": {},
   "outputs": [],
   "source": [
    "n = 0\n",
    "for line in open('quote.txt'):\n",
    "    print('[', n, ']: ', line)\n",
    "    n += 1"
   ]
  },
  {
   "cell_type": "markdown",
   "metadata": {},
   "source": [
    "Here's another loop, this time to count the number of characters\n",
    "* the value printed should be the same number shown by `ls -l` or `wc`"
   ]
  },
  {
   "cell_type": "code",
   "execution_count": null,
   "metadata": {},
   "outputs": [],
   "source": [
    "count = 0\n",
    "for line in open('quote.txt'):\n",
    "    count += len(line)\n",
    "print('total number of chars:', count)"
   ]
  },
  {
   "cell_type": "markdown",
   "metadata": {},
   "source": [
    "### File Not Closed "
   ]
  },
  {
   "cell_type": "markdown",
   "metadata": {},
   "source": [
    "A problem with that `for` loop is the file is opened but not closed\n",
    "* we'll see how to fix this problem in the next notebook, by using a `with` statement"
   ]
  },
  {
   "cell_type": "markdown",
   "metadata": {},
   "source": [
    "## Working with Lines "
   ]
  },
  {
   "cell_type": "markdown",
   "metadata": {},
   "source": [
    "After we read a line we'll want to do something with it"
   ]
  },
  {
   "cell_type": "markdown",
   "metadata": {},
   "source": [
    "### `strip` "
   ]
  },
  {
   "cell_type": "markdown",
   "metadata": {},
   "source": [
    "The first step is often to remove the newline from the end\n",
    "\n",
    "A string method named `strip` does the job\n",
    "* it removes \"whitespace\" (non-printing) characters from ends of strings\n",
    "* whitespace includes spaces, tabs, and newlines"
   ]
  },
  {
   "cell_type": "code",
   "execution_count": null,
   "metadata": {},
   "outputs": [],
   "source": [
    "q = '  ab cd  '"
   ]
  },
  {
   "cell_type": "code",
   "execution_count": null,
   "metadata": {},
   "outputs": [],
   "source": [
    "q.strip()"
   ]
  },
  {
   "cell_type": "code",
   "execution_count": null,
   "metadata": {},
   "outputs": [],
   "source": [
    "for line in open('quote.txt'):\n",
    "    s = line.strip()\n",
    "    print(s)"
   ]
  },
  {
   "cell_type": "markdown",
   "metadata": {},
   "source": [
    "Compare this output with the result of the previous loop\n",
    "* newlines have been removed from the ends, so the extra space problem is solved\n",
    "* it also removed the space from the fronts of lines (e.g. line 2)"
   ]
  },
  {
   "cell_type": "markdown",
   "metadata": {},
   "source": [
    "There are also methods named `lstrip` and `rstrip` if you just want to remove spaces from the left or right side"
   ]
  },
  {
   "cell_type": "markdown",
   "metadata": {},
   "source": [
    "### `split` "
   ]
  },
  {
   "cell_type": "markdown",
   "metadata": {},
   "source": [
    "Another useful method is `split`\n",
    "* a call to `split` will break a line into smaller pieces\n",
    "* the return value is a list of smaller strings\n",
    "* the original string is not affected (strings are immutable)\n",
    "\n",
    "By default the string is split according to word breaks -- all whitespace characters are removed, and the result is a list of words"
   ]
  },
  {
   "cell_type": "code",
   "execution_count": null,
   "metadata": {},
   "outputs": [],
   "source": [
    "s = \"fee fie foe fum\""
   ]
  },
  {
   "cell_type": "code",
   "execution_count": null,
   "metadata": {},
   "outputs": [],
   "source": [
    "s.split()"
   ]
  },
  {
   "cell_type": "code",
   "execution_count": null,
   "metadata": {},
   "outputs": [],
   "source": [
    "t = 'One, two,    three,      go!'"
   ]
  },
  {
   "cell_type": "code",
   "execution_count": null,
   "metadata": {},
   "outputs": [],
   "source": [
    "t.split()"
   ]
  },
  {
   "cell_type": "markdown",
   "metadata": {},
   "source": [
    "## CSV Files "
   ]
  },
  {
   "cell_type": "markdown",
   "metadata": {},
   "source": [
    "A common data format:  comma-separated values (CSV)\n",
    "* plain text files\n",
    "* can be opened, edited with a text editor\n",
    "* common filename extension is `.csv`"
   ]
  },
  {
   "cell_type": "markdown",
   "metadata": {},
   "source": [
    "There is one line (_aka_ **record**) for each piece of data\n",
    "\n",
    "Every line has a sequence of values (_aka_ **fields**) separated by commas"
   ]
  },
  {
   "cell_type": "markdown",
   "metadata": {},
   "source": [
    "### Example "
   ]
  },
  {
   "cell_type": "markdown",
   "metadata": {},
   "source": [
    "A file named `species.csv` has records that describe species of bacteria\n",
    "* the first field is a species ID\n",
    "* the second in the genus name\n",
    "* the third is the species name\n",
    "\n",
    "Here are the first 5 lines in the file:\n",
    "```\n",
    "$ head -5 species.csv\n",
    "\n",
    "577,Persephonella,marina\n",
    "2812,Bifidobacterium,longum\n",
    "5012,Salmonella,enterica\n",
    "1405,Bordetella,holmesii\n",
    "2147,Methylocella,silvestris\n",
    "```"
   ]
  },
  {
   "cell_type": "markdown",
   "metadata": {},
   "source": [
    "### Assumptions "
   ]
  },
  {
   "cell_type": "markdown",
   "metadata": {},
   "source": [
    "CSV files are usually generated automatically \n",
    "* programs like BLAST usually have options for printing results in CSV form\n",
    "* spreadsheets and databases export data in CSV format"
   ]
  },
  {
   "cell_type": "markdown",
   "metadata": {},
   "source": [
    "It's usually safe to assume\n",
    "* one line per record\n",
    "* the same number of fields on each line\n",
    "* no spaces or extra characters surrounding the commas\n",
    "\n",
    "For our projects we'll keep things simple, skip the error checking\n",
    "\n",
    "For \"production\" programs we'll want to include statements that test for and handle formatting errors (more on this later in the term)"
   ]
  },
  {
   "cell_type": "markdown",
   "metadata": {},
   "source": [
    "### Splitting CSV Lines "
   ]
  },
  {
   "cell_type": "markdown",
   "metadata": {},
   "source": [
    "It's easy to break an input line into separate items:  just pass a comma as an argument to `split`"
   ]
  },
  {
   "cell_type": "code",
   "execution_count": null,
   "metadata": {},
   "outputs": [],
   "source": [
    "for line in open('species.csv'):\n",
    "    recs = line.split(',')\n",
    "    print(len(recs), recs)"
   ]
  },
  {
   "cell_type": "markdown",
   "metadata": {},
   "source": [
    "Oops, forgot to strip the newlines -- notice how the last item in each line still has a `\\n`\n",
    "\n",
    "Instead of adding an extra statement to this loop, a common technique is to \"chain\" the calls to `strip` and `split`:"
   ]
  },
  {
   "cell_type": "code",
   "execution_count": null,
   "metadata": {},
   "outputs": [],
   "source": [
    "for line in open('species.csv'):\n",
    "    lt = line.strip()\n",
    "    recs = lt.split(',')\n",
    "    print(recs)"
   ]
  },
  {
   "cell_type": "markdown",
   "metadata": {},
   "source": [
    "Do you see why this works?\n",
    "* `line.strip()` returns a string\n",
    "* we can call the `split` method on this string"
   ]
  },
  {
   "cell_type": "markdown",
   "metadata": {},
   "source": [
    "## Type Conversion "
   ]
  },
  {
   "cell_type": "markdown",
   "metadata": {},
   "source": [
    "An important thing to remember about lines from a text file:\n",
    "* all data is in the form of strings\n",
    "* things that look like numbers are really sequences of digits"
   ]
  },
  {
   "cell_type": "markdown",
   "metadata": {},
   "source": [
    "Note the difference between these two assignment statements:"
   ]
  },
  {
   "cell_type": "code",
   "execution_count": null,
   "metadata": {},
   "outputs": [],
   "source": [
    "n = 123"
   ]
  },
  {
   "cell_type": "code",
   "execution_count": null,
   "metadata": {},
   "outputs": [],
   "source": [
    "n * 3"
   ]
  },
  {
   "cell_type": "code",
   "execution_count": null,
   "metadata": {},
   "outputs": [],
   "source": [
    "n = '123'"
   ]
  },
  {
   "cell_type": "code",
   "execution_count": null,
   "metadata": {},
   "outputs": [],
   "source": [
    "n * 3"
   ]
  },
  {
   "cell_type": "markdown",
   "metadata": {},
   "source": [
    "The first defines `n` to be an integer, the second defines it to be a sequence of characters"
   ]
  },
  {
   "cell_type": "markdown",
   "metadata": {},
   "source": [
    "When we call `split` to separate out records in a CSV file we often need to convert strings of digits into numbers."
   ]
  },
  {
   "cell_type": "markdown",
   "metadata": {},
   "source": [
    "### Example:  Bank Transactions "
   ]
  },
  {
   "cell_type": "markdown",
   "metadata": {},
   "source": [
    "Banks and credit card companies often allow customers to download records in CSV format\n",
    "* spreadsheets and other applications import CSV"
   ]
  },
  {
   "cell_type": "markdown",
   "metadata": {},
   "source": [
    "Here are the lines in the file named `checking_account.csv`:\n",
    "```\n",
    "$ cat checking_account.csv\n",
    "\n",
    "12/02/2018,REGISTER GUARD,11.96\n",
    "12/03/2018,APL* ITUNES.COM/BILL,0.99\n",
    "12/04/2018,CHEVRON 0204468,35.52\n",
    "12/08/2018,MARKET OF CHOICE #9,11.21\n",
    "12/09/2018,FOOD FOR LANE COUNTY,5.00\n",
    "12/14/2018,CHEVRON 0204468,16.25\n",
    "12/21/2018,MARKET OF CHOICE #9,38.76\n",
    "12/28/2018,MARKET OF CHOICE #9,18.78\n",
    "12/31/2018,KING ESTATE WINERY,44.40\n",
    "```"
   ]
  },
  {
   "cell_type": "markdown",
   "metadata": {},
   "source": [
    "We want this loop to compute the sum of all the transactions:"
   ]
  },
  {
   "cell_type": "code",
   "execution_count": null,
   "metadata": {},
   "outputs": [],
   "source": [
    "total = 0.0\n",
    "\n",
    "for line in open('checking_account.csv'):\n",
    "    rec = line.strip().split(',')\n",
    "    print(rec)\n",
    "    total += rec[2]                         # <--- bug\n",
    "    \n",
    "print('Total payments:', total)"
   ]
  },
  {
   "cell_type": "markdown",
   "metadata": {},
   "source": [
    "What does that error message tell us?  Can you see where the error is?"
   ]
  },
  {
   "cell_type": "markdown",
   "metadata": {},
   "source": [
    "#### Add a call to `print` "
   ]
  },
  {
   "cell_type": "markdown",
   "metadata": {},
   "source": [
    "If you're not sure where the problem is, try adding a `print` statement\n",
    "* a good choice would be to print the value of `rec` so we can see if the split worked the way we expected"
   ]
  },
  {
   "cell_type": "markdown",
   "metadata": {},
   "source": [
    "So it looks like `split` did the right thing -- the problem is that `amount` is a string.\n",
    "* verify that by adding `print(type(amount))` to the loop...."
   ]
  },
  {
   "cell_type": "markdown",
   "metadata": {},
   "source": [
    "### `int` and `float` "
   ]
  },
  {
   "cell_type": "markdown",
   "metadata": {},
   "source": [
    "The two type names for numbers are also the names of functions\n",
    "* call `int(s)` to convert the string of digits `s` into an integer\n",
    "* call `float(s)` to convert `s` into a floating point number"
   ]
  },
  {
   "cell_type": "code",
   "execution_count": null,
   "metadata": {},
   "outputs": [],
   "source": [
    "s = '123'"
   ]
  },
  {
   "cell_type": "code",
   "execution_count": null,
   "metadata": {},
   "outputs": [],
   "source": [
    "n = int(s)"
   ]
  },
  {
   "cell_type": "code",
   "execution_count": null,
   "metadata": {},
   "outputs": [],
   "source": [
    "n"
   ]
  },
  {
   "cell_type": "code",
   "execution_count": null,
   "metadata": {},
   "outputs": [],
   "source": [
    "n / 4"
   ]
  },
  {
   "cell_type": "code",
   "execution_count": null,
   "metadata": {},
   "outputs": [],
   "source": [
    "int(s) * 2"
   ]
  },
  {
   "cell_type": "markdown",
   "metadata": {},
   "source": [
    "Here's the loop from above, this time converting the third field (which is in `rec[2]`) to a float before adding it to `total`"
   ]
  },
  {
   "cell_type": "code",
   "execution_count": null,
   "metadata": {},
   "outputs": [],
   "source": [
    "total = 0.0\n",
    "\n",
    "for line in open('checking_account.csv'):\n",
    "    rec = line.strip().split(',')\n",
    "    print(rec)\n",
    "    total += float(rec[2])         #  <--- the bug has been fixed\n",
    "    \n",
    "print('Total payments:', total)"
   ]
  },
  {
   "cell_type": "code",
   "execution_count": null,
   "metadata": {},
   "outputs": [],
   "source": []
  }
 ],
 "metadata": {
  "kernelspec": {
   "display_name": "Python 3",
   "language": "python",
   "name": "python3"
  },
  "language_info": {
   "codemirror_mode": {
    "name": "ipython",
    "version": 3
   },
   "file_extension": ".py",
   "mimetype": "text/x-python",
   "name": "python",
   "nbconvert_exporter": "python",
   "pygments_lexer": "ipython3",
   "version": "3.7.1"
  },
  "varInspector": {
   "cols": {
    "lenName": 16,
    "lenType": 16,
    "lenVar": 40
   },
   "kernels_config": {
    "python": {
     "delete_cmd_postfix": "",
     "delete_cmd_prefix": "del ",
     "library": "var_list.py",
     "varRefreshCmd": "print(var_dic_list())"
    },
    "r": {
     "delete_cmd_postfix": ") ",
     "delete_cmd_prefix": "rm(",
     "library": "var_list.r",
     "varRefreshCmd": "cat(var_dic_list()) "
    }
   },
   "types_to_exclude": [
    "module",
    "function",
    "builtin_function_or_method",
    "instance",
    "_Feature"
   ],
   "window_display": false
  }
 },
 "nbformat": 4,
 "nbformat_minor": 4
}
